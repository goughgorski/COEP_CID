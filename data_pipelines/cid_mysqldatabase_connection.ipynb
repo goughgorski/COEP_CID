{
 "cells": [
  {
   "cell_type": "code",
   "execution_count": 7,
   "id": "01933db6",
   "metadata": {},
   "outputs": [
    {
     "name": "stdout",
     "output_type": "stream",
     "text": [
      "Overwriting cid_mysqldatabase_connection.py\n"
     ]
    }
   ],
   "source": [
    "%%writefile cid_mysqldatabase_connection.py\n",
    "\n",
    "from cryptography.fernet import Fernet\n",
    "import configparser\n",
    "\n",
    "with open('config.ini', 'r') as config_file:\n",
    "    config = configparser.ConfigParser()\n",
    "    config.read_file(config_file)\n",
    "    encrypted_string = config.get('DEFAULT', 'mysql_password')\n",
    "    \n",
    "with open('cipher.ini', 'r') as cipher_file:\n",
    "    cipher = configparser.ConfigParser()\n",
    "    cipher.read_file(cipher_file)\n",
    "    cipher_string = cipher.get('DEFAULT', 'cipher_string')\n",
    "\n",
    "cipher_suite = Fernet(cipher_string)\n",
    "decrypted_bytes = cipher_suite.decrypt(encrypted_string.encode())\n",
    "\n",
    "decrypted_connection_string = decrypted_bytes.decode()\n",
    "\n",
    "class MySQL:\n",
    "    def return_mysql_password():\n",
    "        return(decrypted_connection_string)"
   ]
  }
 ],
 "metadata": {
  "kernelspec": {
   "display_name": "Python 3",
   "language": "python",
   "name": "python3"
  },
  "language_info": {
   "codemirror_mode": {
    "name": "ipython",
    "version": 3
   },
   "file_extension": ".py",
   "mimetype": "text/x-python",
   "name": "python",
   "nbconvert_exporter": "python",
   "pygments_lexer": "ipython3",
   "version": "3.7.11"
  }
 },
 "nbformat": 4,
 "nbformat_minor": 5
}
