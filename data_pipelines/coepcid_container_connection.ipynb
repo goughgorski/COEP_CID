{
 "cells": [
  {
   "cell_type": "code",
   "execution_count": 2,
   "id": "d41e2257",
   "metadata": {},
   "outputs": [
    {
     "name": "stdout",
     "output_type": "stream",
     "text": [
      "Overwriting coepcid_container_connection.py\n"
     ]
    }
   ],
   "source": [
    "%%writefile coepcid_container_connection.py\n",
    "\n",
    "import uuid\n",
    "from azure.storage.blob import BlobServiceClient, BlobClient, ContainerClient\n",
    "from cryptography.fernet import Fernet\n",
    "import configparser\n",
    "\n",
    "with open('config.ini', 'r') as config_file:\n",
    "    config = configparser.ConfigParser()\n",
    "    config.read_file(config_file)\n",
    "    encrypted_string = config.get('DEFAULT', 'container_connection_string')\n",
    "    \n",
    "with open('cipher.ini', 'r') as cipher_file:\n",
    "    cipher = configparser.ConfigParser()\n",
    "    cipher.read_file(cipher_file)\n",
    "    cipher_string = cipher.get('DEFAULT', 'cipher_string')\n",
    "    \n",
    "cipher_suite = Fernet(cipher_string)\n",
    "decrypted_bytes = cipher_suite.decrypt(encrypted_string.encode())\n",
    "\n",
    "decrypted_connection_string = decrypted_bytes.decode()\n",
    "\n",
    "# Create the BlobServiceClient object\n",
    "blob_service_client = BlobServiceClient.from_connection_string(decrypted_connection_string)\n",
    "\n",
    "# Access a specific container within the storage account\n",
    "container_name = \"coepcid\"\n",
    "container_client = blob_service_client.get_container_client(container_name)\n",
    "\n",
    "class Container:\n",
    "    def __init__():\n",
    "        \n",
    "        connection.blob_service_client = blob_service_client\n",
    "        connection.container_client = container_client\n",
    "              \n",
    "    def return_container_client():\n",
    "        return(container_client)\n",
    "    \n",
    "    def return_blob_service_client():\n",
    "        return(blob_service_client)\n",
    "    \n",
    "    def return_container_name():\n",
    "        return(container_name)\n",
    "        "
   ]
  }
 ],
 "metadata": {
  "kernelspec": {
   "display_name": "Python 3",
   "language": "python",
   "name": "python3"
  },
  "language_info": {
   "codemirror_mode": {
    "name": "ipython",
    "version": 3
   },
   "file_extension": ".py",
   "mimetype": "text/x-python",
   "name": "python",
   "nbconvert_exporter": "python",
   "pygments_lexer": "ipython3",
   "version": "3.7.11"
  }
 },
 "nbformat": 4,
 "nbformat_minor": 5
}
